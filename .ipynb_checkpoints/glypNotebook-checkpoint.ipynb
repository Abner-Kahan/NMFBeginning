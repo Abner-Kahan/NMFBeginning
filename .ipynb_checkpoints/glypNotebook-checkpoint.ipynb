{
 "cells": [
  {
   "cell_type": "code",
   "execution_count": 1,
   "id": "56667788",
   "metadata": {},
   "outputs": [],
   "source": [
    "#!/usr/bin/python3\n",
    "import matplotlib.pyplot as plt\n",
    "import numpy as np\n",
    "import pandas as pd\n",
    "import scipy.stats as stats\n",
    "import random\n",
    "import pdb\n",
    "import re\n",
    "import glob\n",
    "from sklearn.decomposition import NMF\n"
   ]
  },
  {
   "cell_type": "code",
   "execution_count": 2,
   "id": "1f5ba70f",
   "metadata": {},
   "outputs": [],
   "source": [
    "\n",
    "def file2Spectra(path):\n",
    "    #Open and read file\n",
    "    logfile =  open(path, 'r')\n",
    "    logtest = logfile.read()\n",
    "    logfile.close()\n",
    "    # Find Frequencies with diceimal digits\n",
    "    freqstri =re.findall('Frequencies\\D*(\\d+.\\d+)\\D*(\\d+.\\d+)\\D*(\\d+.\\d+)',logtest) #looking for decimal numbers and spaces\n",
    "    IRIntenstri =re.findall('IR Inten\\D*(\\d+.\\d+)\\D*(\\d+.\\d+)\\D*(\\d+.\\d+)',logtest)\n",
    "    IrDict =[]\n",
    "    for freqTuple,intTuple in zip(freqstri,IRIntenstri):\n",
    "        for n,p in zip(freqTuple,intTuple):\n",
    "            IrDict.append( [float(n), float(p)])\n",
    "    \n",
    "    Irs = np.array(IrDict)\n",
    "    #normalize\n",
    "    Irs[:,1] = 100*Irs[:,1]/np.amax(Irs[:,1])\n",
    "    return Irs\n",
    "# =============================================================================\n",
    "# for Plotting\n",
    "#     plt.vlines(Irs[:,0],0,Irs[:,1])\n",
    "#     plt.xlabel(\"Wavenumber cm^-1\")\n",
    "#     plt.ylabel(\"Intensity %\")\n",
    "#     plt.gca().invert_yaxis() \n",
    "#     plt.gca().invert_xaxis() "
   ]
  },
  {
   "cell_type": "code",
   "execution_count": 56,
   "id": "59aa4b27",
   "metadata": {},
   "outputs": [],
   "source": [
    "def nmfMatcher(OG_spectra,Calc_spectra):\n",
    "    #pdb.set_trace() \n",
    "        #print(len(OG_spectra))\n",
    "    #OG_spectra = np.transpose(OG_spectra)\n",
    "    mindim = np.amin(OG_spectra.shape)\n",
    "    errorTable = np.zeros((mindim,mindim))\n",
    "    for n in range (mindim):\n",
    "         for p in range(mindim):\n",
    "                 errorTable[n,p] += np.sum(abs( OG_spectra[n] - Calc_spectra[p]))\n",
    "    #print(\"hi \\n\", errorTable)\n",
    "    print(errorTable)\n",
    "    matchTable=np.zeros((mindim,mindim))\n",
    "    #print(\"errorTable \\n \\n\",errorTable)\n",
    "    for entry in range(mindim):\n",
    "         Match = np.where(np.amin(errorTable) == errorTable)\n",
    "         matchTable[entry] =  Match\n",
    "         x = Match[0]\n",
    "         y = Match[1]\n",
    "         #print(Match, errorTable[Match])\n",
    "         errorTable[x]=10**12\n",
    "        # errorTable[1,y]=10**12\n",
    "         print(errorTable)\n",
    "         #print(errorTable)\n",
    "    return matchTable"
   ]
  },
  {
   "cell_type": "code",
   "execution_count": null,
   "id": "e00d4ef8",
   "metadata": {},
   "outputs": [],
   "source": []
  },
  {
   "cell_type": "code",
   "execution_count": 57,
   "id": "a3aa163d",
   "metadata": {},
   "outputs": [
    {
     "name": "stdout",
     "output_type": "stream",
     "text": [
      "[[199.    6.5]\n",
      " [ 30.  187.5]]\n",
      "[[1.000e+12 1.000e+12]\n",
      " [3.000e+01 1.875e+02]]\n",
      "[[1.e+12 1.e+12]\n",
      " [1.e+12 1.e+12]]\n",
      "[[0. 1.]\n",
      " [1. 0.]]\n"
     ]
    },
    {
     "name": "stderr",
     "output_type": "stream",
     "text": [
      "<ipython-input-56-747f3f52bfb3>:16: DeprecationWarning: setting an array element with a sequence. This was supported in some cases where the elements are arrays with a single element. For example `np.array([1, np.array([2])], dtype=int)`. In the future this will raise the same ValueError as `np.array([1, [2]], dtype=int)`.\n",
      "  matchTable[entry] =  Match\n"
     ]
    }
   ],
   "source": [
    "a =np.array ([[1,2,3], [60,70,65]])\n",
    "b =np.array([[50,90,65],[.5,6,1]])\n",
    "print(nmfMatcher(a,b))"
   ]
  },
  {
   "cell_type": "code",
   "execution_count": 58,
   "id": "c7858084",
   "metadata": {},
   "outputs": [],
   "source": [
    "def IrPlotter(item,title):\n",
    "    plt.plot(np.linspace(0,1000,len(item)),item,markersize=.1)\n",
    "    plt.gca().invert_yaxis()\n",
    "    plt.title(title)\n",
    "    plt.xlabel(\"cm^-1\")\n",
    "    plt.show()\n",
    "    plt.clf()\n",
    "    "
   ]
  },
  {
   "cell_type": "code",
   "execution_count": 59,
   "id": "05df733d",
   "metadata": {
    "scrolled": false
   },
   "outputs": [
    {
     "name": "stdout",
     "output_type": "stream",
     "text": [
      "True\n"
     ]
    },
    {
     "data": {
      "text/plain": [
       "<matplotlib.collections.LineCollection at 0x1881ba1da00>"
      ]
     },
     "execution_count": 59,
     "metadata": {},
     "output_type": "execute_result"
    },
    {
     "data": {
      "image/png": "[encoded data removed]",
      "text/plain": [
       "<Figure size 432x288 with 1 Axes>"
      ]
     },
     "metadata": {
      "needs_background": "light"
     },
     "output_type": "display_data"
    }
   ],
   "source": [
    "fileList = glob.glob('Tri_A1*/Tri_A1*/input.log')\n",
    "\n",
    "print(isinstance(fileList[0],str))\n",
    "plt.vlines(file2Spectra(fileList[1])[:,0],0,file2Spectra(fileList[0])[:,1])"
   ]
  },
  {
   "cell_type": "code",
   "execution_count": 60,
   "id": "01b44b48",
   "metadata": {},
   "outputs": [],
   "source": [
    "def VertPlotParamaters():\n",
    "    plt.xlabel(\"Wavenumber cm^-1\")\n",
    "    plt.ylabel(\"Intensity %\")\n",
    "    plt.gca().invert_yaxis() \n",
    "    plt.gca().invert_xaxis()\n",
    "    plt.show()\n",
    "    plt.clf()\n",
    "    "
   ]
  },
  {
   "cell_type": "code",
   "execution_count": 72,
   "id": "837781bf",
   "metadata": {},
   "outputs": [
    {
     "data": {
      "image/png": "[encoded data removed]",
      "text/plain": [
       "<Figure size 432x288 with 1 Axes>"
      ]
     },
     "metadata": {
      "needs_background": "light"
     },
     "output_type": "display_data"
    },
    {
     "data": {
      "image/png": "[encoded data removed]",
      "text/plain": [
       "<Figure size 432x288 with 1 Axes>"
      ]
     },
     "metadata": {
      "needs_background": "light"
     },
     "output_type": "display_data"
    },
    {
     "name": "stdout",
     "output_type": "stream",
     "text": [
      "492\n"
     ]
    },
    {
     "data": {
      "image/png": "[encoded data removed]",
      "text/plain": [
       "<Figure size 432x288 with 1 Axes>"
      ]
     },
     "metadata": {
      "needs_background": "light"
     },
     "output_type": "display_data"
    },
    {
     "data": {
      "image/png": "[encoded data removed]",
      "text/plain": [
       "<Figure size 432x288 with 1 Axes>"
      ]
     },
     "metadata": {
      "needs_background": "light"
     },
     "output_type": "display_data"
    },
    {
     "name": "stderr",
     "output_type": "stream",
     "text": [
      "C:\\Users\\Abner\\anaconda3\\lib\\site-packages\\sklearn\\decomposition\\_nmf.py:312: FutureWarning: The 'init' value, when 'init=None' and n_components is less than n_samples and n_features, will be changed from 'nndsvd' to 'nndsvda' in 1.1 (renaming of 0.26).\n",
      "  warnings.warn((\"The 'init' value, when 'init=None' and \"\n",
      "C:\\Users\\Abner\\anaconda3\\lib\\site-packages\\sklearn\\decomposition\\_nmf.py:1090: ConvergenceWarning: Maximum number of iterations 1000 reached. Increase it to improve convergence.\n",
      "  warnings.warn(\"Maximum number of iterations %d reached. Increase it to\"\n",
      "<ipython-input-56-747f3f52bfb3>:16: DeprecationWarning: setting an array element with a sequence. This was supported in some cases where the elements are arrays with a single element. For example `np.array([1, np.array([2])], dtype=int)`. In the future this will raise the same ValueError as `np.array([1, [2]], dtype=int)`.\n",
      "  matchTable[entry] =  Match\n"
     ]
    },
    {
     "name": "stdout",
     "output_type": "stream",
     "text": [
      "size (492, 2)\n",
      "[[1.91330892e+02 1.19410110e-02]\n",
      " [0.00000000e+00 1.89179637e+01]]\n",
      "Hi (492, 2) (492, 2)\n",
      "[[8.64170360e-07 2.13103727e+01]\n",
      " [2.13103752e+01 1.64467895e-06]]\n",
      "[[1.00000000e+12 1.00000000e+12]\n",
      " [2.13103752e+01 1.64467895e-06]]\n",
      "[[1.e+12 1.e+12]\n",
      " [1.e+12 1.e+12]]\n",
      "[[0. 0.]\n",
      " [1. 1.]]\n"
     ]
    },
    {
     "data": {
      "image/png": "[encoded data removed]",
      "text/plain": [
       "<Figure size 432x288 with 1 Axes>"
      ]
     },
     "metadata": {
      "needs_background": "light"
     },
     "output_type": "display_data"
    },
    {
     "data": {
      "image/png": "[encoded data removed]",
      "text/plain": [
       "<Figure size 432x288 with 1 Axes>"
      ]
     },
     "metadata": {
      "needs_background": "light"
     },
     "output_type": "display_data"
    },
    {
     "data": {
      "text/plain": [
       "<Figure size 432x288 with 0 Axes>"
      ]
     },
     "metadata": {},
     "output_type": "display_data"
    }
   ],
   "source": [
    "def nmf2TesterMix():\n",
    "    #pdb.set_trace()\n",
    "\n",
    "    fraction1 = random.random()\n",
    "    fraction2 =  random.random()\n",
    "    #print(f'The expected fractions are  {fraction1:.3}, {fraction2:.3}.')\n",
    "    \n",
    "    #Creating Two Spectra\n",
    "    IR0 =random.choice(fileList)\n",
    "    IR0 = file2Spectra(IR0)\n",
    "   \n",
    "    IR1 =random.choice(fileList)\n",
    "    IR1 = file2Spectra(IR1)\n",
    "   # for n,p in zip(IR0[:,0],IR1[:,0]) :\n",
    "    #    print (n,p)\n",
    "    \n",
    "    plt.vlines(IR0[:,0],0,IR0[:,1])\n",
    "    plt.xlabel(\"Wavenumber cm^-1\")\n",
    "    plt.ylabel(\"Intensity %\")\n",
    "    plt.title('First Spectra')\n",
    "    plt.gca().invert_yaxis() \n",
    "    plt.gca().invert_xaxis()\n",
    "    plt.show()\n",
    "    plt.clf()\n",
    "    \n",
    "    plt.vlines(IR1[:,0],0,IR1[:,1])\n",
    "    plt.xlabel(\"Wavenumber cm^-1\")\n",
    "    plt.ylabel(\"Intensity %\")\n",
    "    plt.title('Second Spectra')\n",
    "    plt.gca().invert_yaxis() \n",
    "    plt.gca().invert_xaxis()\n",
    "    plt.show()\n",
    "    plt.clf()\n",
    "    \n",
    "    numPoints = len(IR0[:,0])\n",
    "    \n",
    "    \n",
    "    \n",
    "    \n",
    "    IRF = np.zeros((2,numPoints *2))\n",
    "    IRF[0,:] = np.ravel([IR0[:,0],IR1[:,0]])\n",
    "    IRF[1,:] = np.ravel([IR0[:,1] *fraction1 + IR1[:,1]*(1-fraction1),IR0[:,1] *fraction2 + IR1[:,1]*(1-fraction2)])\n",
    "    print (IRF.shape[1])\n",
    "    nmfMatcher\n",
    "    #First Mix\n",
    "    plt.vlines(IRF[0,:int(IRF.shape[1]/2)],0,IRF[1,:int(IRF.shape[1]/2)])\n",
    "    plt.title(\"FirstMix\")\n",
    "    VertPlotParamaters()\n",
    "    #Second Mix\n",
    "    plt.vlines(IRF[0,int(IRF.shape[1]/2):],0,IRF[1,int(IRF.shape[1]/2):])\n",
    "    plt.title(\"SecondMix\")\n",
    "    VertPlotParamaters()\n",
    "    #print(IRF)\n",
    "    \n",
    "    #IRF[1,:,1] =  IR1[:,0]\n",
    " \n",
    "    \n",
    "    IRF= np.transpose(IRF)\n",
    "    \n",
    "    model = NMF(n_components=2, max_iter=1000, tol= 1*10**-8, solver= 'cd')\n",
    "    W = model.fit_transform(IRF)\n",
    "    H = model.components_\n",
    "    product = np.matmul(W,H)\n",
    "    print(\"size\", product.shape)\n",
    "    print(H)\n",
    "    print(\"Hi\", W.shape, IRF.shape)\n",
    "    print(nmfMatcher (IRF, product))\n",
    "    plt.vlines(product[int(W.shape[0]/2):,0],0,product[int(W.shape[0]/2):,1])\n",
    "    plt.title('FirstCalculatedSpectra')\n",
    "    VertPlotParamaters()\n",
    "    plt.vlines(product[:int(W.shape[0]/2),0],0,product[:int(W.shape[0]/2),1])\n",
    "    plt.title('SecondCalculatedSpectra')\n",
    "    VertPlotParamaters()\n",
    "   #print(W[:,0])\n",
    "    \n",
    "   \n",
    "nmf2TesterMix()"
   ]
  },
  {
   "cell_type": "code",
   "execution_count": null,
   "id": "4b5fa9b9",
   "metadata": {},
   "outputs": [],
   "source": []
  },
  {
   "cell_type": "code",
   "execution_count": null,
   "id": "a8bdafb0",
   "metadata": {},
   "outputs": [],
   "source": []
  },
  {
   "cell_type": "code",
   "execution_count": null,
   "id": "968d9893",
   "metadata": {},
   "outputs": [],
   "source": [
    "    \n"
   ]
  },
  {
   "cell_type": "code",
   "execution_count": 8,
   "id": "8c212676",
   "metadata": {
    "scrolled": false
   },
   "outputs": [
    {
     "ename": "NameError",
     "evalue": "name 'IR0' is not defined",
     "output_type": "error",
     "traceback": [
      "\u001b[1;31m---------------------------------------------------------------------------\u001b[0m",
      "\u001b[1;31mNameError\u001b[0m                                 Traceback (most recent call last)",
      "\u001b[1;32m<ipython-input-8-69b69c4f86e5>\u001b[0m in \u001b[0;36m<module>\u001b[1;34m\u001b[0m\n\u001b[1;32m----> 1\u001b[1;33m \u001b[0mIROG\u001b[0m \u001b[1;33m=\u001b[0m \u001b[0mnp\u001b[0m\u001b[1;33m.\u001b[0m\u001b[0marray\u001b[0m\u001b[1;33m(\u001b[0m\u001b[1;33m[\u001b[0m\u001b[0mIR0\u001b[0m\u001b[1;33m,\u001b[0m\u001b[0mIR1\u001b[0m\u001b[1;33m]\u001b[0m\u001b[1;33m,\u001b[0m\u001b[0mdtype\u001b[0m\u001b[1;33m=\u001b[0m\u001b[1;34m'object'\u001b[0m\u001b[1;33m)\u001b[0m\u001b[1;33m\u001b[0m\u001b[1;33m\u001b[0m\u001b[0m\n\u001b[0m\u001b[0;32m      2\u001b[0m \u001b[0mprint\u001b[0m\u001b[1;33m(\u001b[0m\u001b[1;34m\"IROG shape\"\u001b[0m\u001b[1;33m,\u001b[0m \u001b[0mIROG\u001b[0m\u001b[1;33m.\u001b[0m\u001b[0mshape\u001b[0m\u001b[1;33m)\u001b[0m\u001b[1;33m\u001b[0m\u001b[1;33m\u001b[0m\u001b[0m\n\u001b[0;32m      3\u001b[0m \u001b[1;31m#IrPlotter(IR1,\"SecondPlot\")\u001b[0m\u001b[1;33m\u001b[0m\u001b[1;33m\u001b[0m\u001b[1;33m\u001b[0m\u001b[0m\n\u001b[0;32m      4\u001b[0m \u001b[1;33m\u001b[0m\u001b[0m\n\u001b[0;32m      5\u001b[0m \u001b[1;33m\u001b[0m\u001b[0m\n",
      "\u001b[1;31mNameError\u001b[0m: name 'IR0' is not defined"
     ]
    }
   ],
   "source": [
    "    \n",
    "  \n",
    "    \n",
    "    IROG = np.array([IR0,IR1],dtype='object')\n",
    "    print(\"IROG shape\", IROG.shape)\n",
    "    #IrPlotter(IR1,\"SecondPlot\")\n",
    "   \n",
    "    \n",
    "    \n",
    "    IrMix = np.zeros((4,numPoints))\n",
    "    IrMix[0,:]=IRF[0,:]\n",
    "    IrMix[1,:]=IRF[1,:]\n",
    "   \n",
    "    #IrMix[3,:] = IR0*fraction1 + IR1*(1-fraction1)\n",
    "    \n",
    "    IRF= np.transpose(IRF)\n",
    "    #IrMix[3,:] = IR0*(1-fraction2)  + IR1*fraction1\n",
    "   # IrPlotter( IrMix[0,:],\"FirstMix\")\n",
    "   # IrPlotter(IrMix[1,:],\"SecondMix\")\n",
    "    IrMix= np.transpose(IrMix)\n",
    "    #model  = NMF(n_components=2, init='nndsvda', max_iter=1000, tol= 1*10**-6, solver='mu')\n",
    "    #print(model)\n",
    "    #\n",
    "   # Wbaby = model.fit_transform(IrMix)\n",
    "    #Hbaby = model.components_\n",
    "    model = NMF(n_components=2, max_iter=10000, tol= 1*10**-8, solver= 'cd')#, init='custom')\n",
    "    #it seems that mu gives more close results\n",
    "    #must analyze errors and create plots\n",
    "    W = model.fit_transform(IrMix)\n",
    "    H = model.components_\n",
    "    HO = H.copy()\n",
    "    print (\"H\", HO)\n",
    "    \n",
    "    H = np.apply_along_axis(lambda l :l/np.amax(l) ,1,H)\n",
    "    print (\"H adjusted\", H)\n",
    "    #print(H)\n",
    "    IrPlotter(W[:,0], \"First Calc Spectra\")\n",
    "    IrPlotter(W[:,1], \"Second Calc Spectra\")\n",
    "    #print (np.mean(np.where(W[:,1]>0))/np.mean((np.where(W[:,0]>0)))\n",
    "    #print(model.fit(IrMix))\n",
    "    W2 = np.matmul(W,H)\n",
    "\n",
    "# =============================================================================\n",
    "    for entri in nmfMatcher(IROG,W):\n",
    "        \n",
    "         print('entri', entri)\n",
    "         plt.plot(np.linspace(0,1000,numPoints),IROG[entri[0][0],:],color=\"red\")\n",
    "         if H[0,0]>.01:\n",
    "             print(f'The calculated fraction of the first is {H[0,2]:.5}.')\n",
    "             print(f'The calculated fraction of the second is {H[1,2]:.5}.')\n",
    "             \n",
    "\n",
    "             \n",
    "         else:\n",
    "             print(f'The calculated fraction of the first is {H[1,2]:.5}')\n",
    "             print(f'The calculated fraction of the second is, {H[0,2]:.5}.')\n",
    "             \n",
    "         plt.plot(np.linspace(0,1000,numPoints),(W[:,entri[1][0]])*(max(HO[entri[1][0]])))\n",
    "        # print(\"full\", (max(HO[entri[0][0]])))\n",
    "        \n",
    "\n",
    "\n",
    "         plt.gca().invert_yaxis()\n",
    "         plt.legend([\"Original\", \"Calculated\"])\n",
    "         plt.title(str(entri[0][0])+ \" Both Spectra\")\n",
    "         plt.xlabel(\"cm^-1\")\n",
    "         plt.show()\n",
    "         plt.clf()\n",
    "         \n"
   ]
  },
  {
   "cell_type": "code",
   "execution_count": null,
   "id": "3b604ec1",
   "metadata": {},
   "outputs": [],
   "source": []
  },
  {
   "cell_type": "raw",
   "id": "595102b8",
   "metadata": {
    "scrolled": true
   },
   "source": [
    "bob =np.array([[[1,2,3],['a','b','c']],[[4,5,6],['d','e','f']]])\n",
    "print(bob)\n",
    "bob.transpose()\n",
    "plt.vlines(W[,0],0,W[:,1])\n",
    "    plt.xlabel(\"Wavenumber cm^-1\")\n",
    "    plt.ylabel(\"Intensity %\")\n",
    "    plt.title('First Spectra')\n",
    "    plt.gca().invert_yaxis() \n",
    "    plt.gca().invert_xaxis()\n",
    "    plt.show()\n",
    "    plt.clf()\n",
    "    \n",
    " '''\n",
    "    #These are the x-index\n",
    "    IRF = np.zeros((2,2,numPoints))\n",
    "    IRF[0,0,:] = IR0[:,0]\n",
    "    IRF[1,0,:] = IR1[:,0]\n",
    "    IRF[0,1,:] = IR0[:,1] *fraction1 + IR1[:,1]*(1-fraction1)\n",
    "    IRF[1,1,:] = IR0[:,1] *fraction2 + IR1[:,1]*(1-fraction2)\n",
    "    '''\n",
    "    \n",
    "    \n",
    "       '''  \n",
    "    plt.vlines(IRF[0,0,:],0,IRF[0,1,:])\n",
    "    plt.title(\"First Mixxed Plot\")\n",
    "    VertPlotParamaters()\n",
    "    plt.vlines(IRF[1,0,:],0,IRF[1,1,:])\n",
    "    plt.title(\"Second Mixxed Plot\")\n",
    "    VertPlotParamaters()\n",
    "    '''"
   ]
  },
  {
   "cell_type": "code",
   "execution_count": null,
   "id": "11519320",
   "metadata": {},
   "outputs": [],
   "source": []
  }
 ],
 "metadata": {
  "kernelspec": {
   "display_name": "Python 3",
   "language": "python",
   "name": "python3"
  },
  "language_info": {
   "codemirror_mode": {
    "name": "ipython",
    "version": 3
   },
   "file_extension": ".py",
   "mimetype": "text/x-python",
   "name": "python",
   "nbconvert_exporter": "python",
   "pygments_lexer": "ipython3",
   "version": "3.8.8"
  }
 },
 "nbformat": 4,
 "nbformat_minor": 5
}
