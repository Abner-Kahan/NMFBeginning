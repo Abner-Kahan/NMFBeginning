{
 "cells": [
  {
   "cell_type": "code",
   "execution_count": 13,
   "id": "63bf4d98-7cba-424d-b708-0e81213c748a",
   "metadata": {},
   "outputs": [],
   "source": [
    "#!/usr/bin/python3\n",
    "import matplotlib.pyplot as plt\n",
    "import numpy as np\n",
    "import pandas as pd\n",
    "import scipy\n",
    "import random\n",
    "import pdb\n",
    "import re\n",
    "import glob\n",
    "from sklearn.decomposition import NMF\n",
    "from scipy.signal import chirp, find_peaks, peak_widths\n"
   ]
  },
  {
   "cell_type": "code",
   "execution_count": 14,
   "id": "e06d3d1a-8706-4c1f-8b3d-dd53537b6675",
   "metadata": {},
   "outputs": [],
   "source": [
    "def file2Spectra(path):\n",
    "    #Open and read file\n",
    "    logfile =  open(path, 'r')\n",
    "    logtest = logfile.read()\n",
    "    logfile.close()\n",
    "    # Find Frequencies with diceimal digits\n",
    "    freqstri =re.findall('Frequencies\\D*(\\d+.\\d+)\\D*(\\d+.\\d+)\\D*(\\d+.\\d+)',logtest) #looking for decimal numbers and spaces\n",
    "    IRIntenstri =re.findall('IR Inten\\D*(\\d+.\\d+)\\D*(\\d+.\\d+)\\D*(\\d+.\\d+)',logtest)\n",
    "    IrDict =[]\n",
    "    for freqTuple,intTuple in zip(freqstri,IRIntenstri):\n",
    "        for n,p in zip(freqTuple,intTuple):\n",
    "            IrDict.append( [float(n), float(p)])\n",
    "    \n",
    "    Irs = np.array(IrDict)\n",
    "    #normalize\n",
    "    Irs[:,1] = 100*Irs[:,1]/np.amax(Irs[:,1])\n",
    "    return Irs\n"
   ]
  },
  {
   "cell_type": "code",
   "execution_count": 15,
   "id": "3fe3498e-ccaa-4de1-860f-378368785c97",
   "metadata": {},
   "outputs": [],
   "source": [
    "def IrPlotter(item,title,leg = [], multiple = False):\n",
    "    if not(multiple):\n",
    "        plt.plot(np.linspace(0,4000,len(item)),item,markersize=.1)\n",
    "    else:\n",
    "        for n in item:\n",
    "            plt.plot(np.linspace(0,4000,len(n)),n,markersize=.1)\n",
    "    if len (leg) > 0:\n",
    "        plt.legend(leg)\n",
    "    plt.gca().invert_yaxis()\n",
    "    plt.title(title)\n",
    "    plt.xlabel(\"cm^-1\")    \n",
    "    plt.show()\n",
    "    plt.clf()"
   ]
  },
  {
   "cell_type": "code",
   "execution_count": 16,
   "id": "ebe3fc51-4cf3-4373-8e9a-37d1d47380d9",
   "metadata": {},
   "outputs": [],
   "source": [
    "def gaussian_broadening(spectra, broaden, resolution=1):\n",
    " \n",
    "    \"\"\" Performs gaussian broadening on IR spectrum\n",
    "    generates attribute self.IR - np.array with dimmension 4000/resolution consisting gaussian-boraden spectrum\n",
    "    \n",
    "    spectra should be in numpy format or list with frequencies in 0 index then intensities in index 1\n",
    "    :param broaden: (float) gaussian broadening in wn-1\n",
    "    :param resolution: (float) resolution of the spectrum (number of points for 1 wn) defaults is 1, needs to be fixed in plotting\n",
    "    \"\"\"\n",
    "\n",
    "    IR = np.zeros((int(4000/resolution) + 1))\n",
    "    X = np.linspace(0,4000, int(4000/resolution)+1)\n",
    "   # for f, i in zip(spectra[:,0], :  IR += i*np.exp(-0.5*((X-f)/int(broaden))**2)\n",
    "   # self.IR=np.vstack((X, IR)).T #tspec\n",
    "                    \n",
    "                    \n",
    "    for line in spectra:\n",
    "        freq = line[0]\n",
    "        inten = line[1]\n",
    "        IR += inten*np.exp(-0.5*((X-freq)/int(broaden))**2)\n",
    "    return IR\n",
    "\n"
   ]
  },
  {
   "cell_type": "code",
   "execution_count": 17,
   "id": "7b7c5cd5-e96e-457a-ba9c-2bc092fdc364",
   "metadata": {},
   "outputs": [],
   "source": [
    "def derivatSpectra(spectra):\n",
    "    derived_spectra= []\n",
    "    for n in range(len(spectra)):\n",
    "        #print(\"hi\", n)\n",
    "        derived_spectra += [scipy.misc.derivative (lambda x:(spectra[int(x)]), n-1)]\n",
    "    return derived_spectra\n",
    "#print(derivatSpectra(IR0))\n",
    "#IrPlotter([IR0,derivatSpectra(IR0)],\"Test Spectra Vs Derivative\",leg=[\"Orginal\",\"Derivative\"] ,multiple = True)\n",
    "#IrPlotter(derivatSpectra(IR0),\"Test Spectra\")\n"
   ]
  },
  {
   "cell_type": "code",
   "execution_count": null,
   "id": "7aa36464-2da8-4e5f-bfe0-1eb984db59df",
   "metadata": {},
   "outputs": [],
   "source": [
    "\n"
   ]
  },
  {
   "cell_type": "code",
   "execution_count": 18,
   "id": "d30ae751-fa25-4d1e-abce-f96e6006821b",
   "metadata": {},
   "outputs": [
    {
     "name": "stdout",
     "output_type": "stream",
     "text": [
      "2\n",
      "4.0\n",
      "4\n",
      "8.0\n",
      "5\n",
      "10.0\n",
      "7\n",
      "14.0\n",
      "10\n",
      "20.0\n"
     ]
    }
   ],
   "source": [
    "bob = [2,4,5,7,10]\n",
    "for n in bob:\n",
    "    print(n)\n",
    "    print(scipy.misc.derivative (lambda x:x**2, n))"
   ]
  },
  {
   "cell_type": "code",
   "execution_count": 19,
   "id": "787af9fd-4248-49a9-aa3c-222d66459c51",
   "metadata": {},
   "outputs": [
    {
     "data": {
      "text/plain": [
       "3"
      ]
     },
     "execution_count": 19,
     "metadata": {},
     "output_type": "execute_result"
    }
   ],
   "source": [
    "#int(np.floor(3.5))\n",
    "int(3.9)"
   ]
  },
  {
   "cell_type": "code",
   "execution_count": 20,
   "id": "24b29407-6575-4f7a-a0bf-8bb4abc5ad7f",
   "metadata": {},
   "outputs": [
    {
     "name": "stdout",
     "output_type": "stream",
     "text": [
      "5\n"
     ]
    }
   ],
   "source": [
    "print((lambda x: (x+2))(3))"
   ]
  },
  {
   "cell_type": "code",
   "execution_count": 21,
   "id": "b99e9b2c-4ae7-49c4-9ff0-aaecb4d07052",
   "metadata": {},
   "outputs": [
    {
     "name": "stdout",
     "output_type": "stream",
     "text": [
      "[1, 2, 3]\n"
     ]
    }
   ],
   "source": [
    "bob =[1,2,3]\n",
    "tom =[]\n",
    "for n in range(len(bob)):\n",
    "    tom.append(bob[n])\n",
    "print(tom)"
   ]
  },
  {
   "cell_type": "code",
   "execution_count": 23,
   "id": "80276beb-33fc-40b4-bb97-0508e560c9e0",
   "metadata": {},
   "outputs": [
    {
     "ename": "NameError",
     "evalue": "name 'new_spectra2' is not defined",
     "output_type": "error",
     "traceback": [
      "\u001b[1;31m---------------------------------------------------------------------------\u001b[0m",
      "\u001b[1;31mNameError\u001b[0m                                 Traceback (most recent call last)",
      "\u001b[1;32m<ipython-input-23-d723cf6e14f4>\u001b[0m in \u001b[0;36m<module>\u001b[1;34m\u001b[0m\n\u001b[0;32m     10\u001b[0m \u001b[1;31m#print(ImaginaryEnergy(new_spectra))\u001b[0m\u001b[1;33m\u001b[0m\u001b[1;33m\u001b[0m\u001b[1;33m\u001b[0m\u001b[0m\n\u001b[0;32m     11\u001b[0m \u001b[1;31m#\u001b[0m\u001b[1;33m\u001b[0m\u001b[1;33m\u001b[0m\u001b[1;33m\u001b[0m\u001b[0m\n\u001b[1;32m---> 12\u001b[1;33m \u001b[0mprint\u001b[0m\u001b[1;33m(\u001b[0m\u001b[0mImaginaryEnergy\u001b[0m\u001b[1;33m(\u001b[0m\u001b[0mnew_spectra2\u001b[0m\u001b[1;33m)\u001b[0m\u001b[1;33m)\u001b[0m\u001b[1;33m\u001b[0m\u001b[1;33m\u001b[0m\u001b[0m\n\u001b[0m\u001b[0;32m     13\u001b[0m \u001b[1;33m\u001b[0m\u001b[0m\n",
      "\u001b[1;31mNameError\u001b[0m: name 'new_spectra2' is not defined"
     ]
    }
   ],
   "source": [
    "def ImaginaryEnergy(spectra):\n",
    "    peaks, _ = find_peaks(spectra)\n",
    "    results_half = peak_widths(spectra, peaks, rel_height=0.5)\n",
    "    ImaginaryEnergy = np.average (results_half[0])/2\n",
    "    return ImaginaryEnergy\n",
    "    \n",
    "\n",
    "\n",
    "\n",
    "#print(ImaginaryEnergy(new_spectra))\n",
    "#\n",
    "print(ImaginaryEnergy(new_spectra2))\n",
    "\n"
   ]
  },
  {
   "cell_type": "code",
   "execution_count": null,
   "id": "4c2e08a7-d228-4f34-8794-2b6575b94c42",
   "metadata": {},
   "outputs": [],
   "source": []
  },
  {
   "cell_type": "markdown",
   "id": "500b7430-eb90-4ad1-8c80-daf1277d30b8",
   "metadata": {},
   "source": [
    "ok take half of peak width and ollow the wikipediab article to take the imaginary self energy\n"
   ]
  },
  {
   "cell_type": "code",
   "execution_count": 25,
   "id": "147a6097-2290-4c5e-9026-4f6e4b683bf4",
   "metadata": {},
   "outputs": [],
   "source": [
    "n=9\n",
    "def Y(wavelength, spectra,V_oi):\n",
    "    L = scipy.misc.derivative (lambda x:(spectra[int(x)]), wavelength)/spectra[int(wavelength)]\n",
    "    return (L**-1)/(L**-2 + V_oi**2)\n",
    "#Y(6.7,new_spectra,ImaginaryEnergy(new_spectra) )    \n",
    "def num(wavelength, TheoSpec,ExperSpec,V_oi):\n",
    "    return (Y(wavelength, TheoSpec,V_oi) - Y(wavelength, ExperSpec,V_oi))**2\n",
    "def denom(wavelength, TheoSpec,ExperSpec,V_oi):\n",
    "    return (Y(wavelength, TheoSpec,V_oi)**2) + (Y(wavelength, ExperSpec,V_oi)**2)"
   ]
  },
  {
   "cell_type": "code",
   "execution_count": 26,
   "id": "9b3add7a-6ab5-4163-af03-a8b398802305",
   "metadata": {},
   "outputs": [
    {
     "ename": "NameError",
     "evalue": "name 'new_spectra' is not defined",
     "output_type": "error",
     "traceback": [
      "\u001b[1;31m---------------------------------------------------------------------------\u001b[0m",
      "\u001b[1;31mNameError\u001b[0m                                 Traceback (most recent call last)",
      "\u001b[1;32m<ipython-input-26-5b3e44f1fe86>\u001b[0m in \u001b[0;36m<module>\u001b[1;34m\u001b[0m\n\u001b[1;32m----> 1\u001b[1;33m \u001b[0mlen\u001b[0m\u001b[1;33m(\u001b[0m\u001b[0mnew_spectra\u001b[0m\u001b[1;33m)\u001b[0m\u001b[1;33m\u001b[0m\u001b[1;33m\u001b[0m\u001b[0m\n\u001b[0m",
      "\u001b[1;31mNameError\u001b[0m: name 'new_spectra' is not defined"
     ]
    }
   ],
   "source": [
    "len(new_spectra)"
   ]
  },
  {
   "cell_type": "code",
   "execution_count": 27,
   "id": "e190cc09-8a89-4810-91f8-97330bafe572",
   "metadata": {},
   "outputs": [],
   "source": [
    "def SpecDifferenceSq(TheoSpec,ExperSpec):\n",
    "    diff =[]\n",
    "    for n in range(len(TheoSpec)):\n",
    "        diff += [(TheoSpec[n]-ExperSpec[n])**2]\n",
    "    return diff\n",
    "def SumSqSpec(list):\n",
    "    sum\n",
    "    return map(lambda x: x ** 2, list)"
   ]
  },
  {
   "cell_type": "code",
   "execution_count": 28,
   "id": "109bf1ef-c02d-49da-b5f4-9615362461e0",
   "metadata": {},
   "outputs": [
    {
     "data": {
      "image/png": "[encoded data removed]",
      "text/plain": [
       "<Figure size 432x288 with 1 Axes>"
      ]
     },
     "metadata": {
      "needs_background": "light"
     },
     "output_type": "display_data"
    },
    {
     "data": {
      "image/png": "[encoded data removed]",
      "text/plain": [
       "<Figure size 432x288 with 1 Axes>"
      ]
     },
     "metadata": {
      "needs_background": "light"
     },
     "output_type": "display_data"
    },
    {
     "data": {
      "text/plain": [
       "<Figure size 432x288 with 0 Axes>"
      ]
     },
     "metadata": {},
     "output_type": "display_data"
    }
   ],
   "source": [
    "fileList = glob.glob('Tri_A1*/Tri_A1*/input.log')\n",
    "IR0 =random.choice(fileList)\n",
    "IR0 = file2Spectra(IR0)\n",
    "IR0 = gaussian_broadening(IR0,25,1)\n",
    "#print(IR0[::5])\n",
    "IrPlotter(IR0,\"Test Spectra\")\n",
    "IR1 = random.choice(fileList)\n",
    "IR1 = file2Spectra(IR1)\n",
    "IR1 = gaussian_broadening(IR1,25,1)\n",
    "IrPlotter(IR1,\"Second Test Spectra\")\n"
   ]
  },
  {
   "cell_type": "code",
   "execution_count": 126,
   "id": "196c8cc7-e2ef-49e3-96af-59c55c99ecc0",
   "metadata": {
    "tags": []
   },
   "outputs": [],
   "source": [
    "#Proof of Conecpt for making a spectra into a function\n",
    "\n",
    "#new_spectra=[]\n",
    "#for n in range(len(IR0)):\n",
    "#    new_spectra.append( (lambda x:(IR0[int(x)]))(n))\n",
    "#new_spectra2=[]\n",
    "#for n in range(len(IR1)):\n",
    "#    new_spectra2.append( (lambda x:(IR1[int(x)]))(n))   \n",
    "#IrPlotter(new_spectra,\"Test1bSpectra\")\n",
    "#IrPlotter(new_spectra2,\"Test2bSpectra\")"
   ]
  },
  {
   "cell_type": "code",
   "execution_count": 33,
   "id": "88c54ebb-ba1a-4967-b451-21c5a99c279e",
   "metadata": {},
   "outputs": [],
   "source": [
    "def specToFunc(spectra):\n",
    "    funct =[]\n",
    "    for n in range(len(spectra)):\n",
    "        funct.append(((lambda x:(IR0[int(x)]))(n)))\n",
    "    return funct\n",
    "#specToFunc(IR0)\n",
    "#specToFunc(IR1)"
   ]
  },
  {
   "cell_type": "code",
   "execution_count": 35,
   "id": "15684d07-5260-4739-a8e6-3ad3d9a038c8",
   "metadata": {},
   "outputs": [
    {
     "name": "stdout",
     "output_type": "stream",
     "text": [
      "0.7673034798600943\n"
     ]
    },
    {
     "name": "stderr",
     "output_type": "stream",
     "text": [
      "<ipython-input-35-4b0e0fc1a813>:3: IntegrationWarning: The maximum number of subdivisions (50) has been achieved.\n",
      "  If increasing the limit yields no improvement it is advised to analyze \n",
      "  the integrand in order to determine the difficulties.  If the position of a \n",
      "  local difficulty can be determined (singularity, discontinuity) one will \n",
      "  probably gain from splitting up the interval and calling the integrator \n",
      "  on the subranges.  Perhaps a special-purpose integrator should be used.\n",
      "  print ( ( scipy.integrate.quad(num,0, len(TheoSpec)-1, (TheoSpec,ExperSpec, ImaginaryEnergy(TheoSpec)))[0]) / (\n",
      "<ipython-input-35-4b0e0fc1a813>:4: IntegrationWarning: The maximum number of subdivisions (50) has been achieved.\n",
      "  If increasing the limit yields no improvement it is advised to analyze \n",
      "  the integrand in order to determine the difficulties.  If the position of a \n",
      "  local difficulty can be determined (singularity, discontinuity) one will \n",
      "  probably gain from splitting up the interval and calling the integrator \n",
      "  on the subranges.  Perhaps a special-purpose integrator should be used.\n",
      "  scipy.integrate.quad(denom,0, len(TheoSpec)-1, (TheoSpec,ExperSpec,ImaginaryEnergy(TheoSpec))))[0])\n"
     ]
    }
   ],
   "source": [
    "def ypendry(TheoSpec,ExperSpec):\n",
    "    #specDif = SpecDifferenceSq(TheoSpec,ExperSpec)\n",
    "    return ( ( scipy.integrate.quad(num,0, len(TheoSpec)-1, (TheoSpec,ExperSpec, ImaginaryEnergy(TheoSpec)))[0]) / (\n",
    "    scipy.integrate.quad(denom,0, len(TheoSpec)-1, (TheoSpec,ExperSpec,ImaginaryEnergy(TheoSpec))))[0])\n",
    "           \n",
    "ypendry(IR0,IR1)   \n",
    "\n"
   ]
  },
  {
   "cell_type": "code",
   "execution_count": null,
   "id": "935dc438-2156-4160-b57d-011d2c1bf830",
   "metadata": {},
   "outputs": [],
   "source": []
  },
  {
   "cell_type": "code",
   "execution_count": null,
   "id": "76a9eac2-476d-4235-b7b3-d86e773232cc",
   "metadata": {},
   "outputs": [],
   "source": []
  },
  {
   "cell_type": "code",
   "execution_count": null,
   "id": "ed3cb4ea-d3d4-41fe-9e7e-860ee19fd8e3",
   "metadata": {},
   "outputs": [],
   "source": []
  }
 ],
 "metadata": {
  "kernelspec": {
   "display_name": "Python 3",
   "language": "python",
   "name": "python3"
  },
  "language_info": {
   "codemirror_mode": {
    "name": "ipython",
    "version": 3
   },
   "file_extension": ".py",
   "mimetype": "text/x-python",
   "name": "python",
   "nbconvert_exporter": "python",
   "pygments_lexer": "ipython3",
   "version": "3.8.8"
  }
 },
 "nbformat": 4,
 "nbformat_minor": 5
}
